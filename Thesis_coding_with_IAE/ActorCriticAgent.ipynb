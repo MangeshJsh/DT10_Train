{
 "cells": [
  {
   "cell_type": "code",
   "execution_count": 1,
   "metadata": {},
   "outputs": [],
   "source": [
    "import numpy as np\n",
    "import torch as T\n",
    "import torch.nn as nn\n",
    "import torch.nn.functional as F\n",
    "import torch.optim as optim"
   ]
  },
  {
   "cell_type": "code",
   "execution_count": 2,
   "metadata": {},
   "outputs": [],
   "source": [
    "class ActorCriticNetwork(nn.Module):\n",
    "    def __init__(self, lr, input_dims, n_actions):\n",
    "        super(ActorCriticAgent, self).__init__()\n",
    "        self.fc1_dims=256\n",
    "        self.fc2_dims=256\n",
    "        self.fc1 = nn.Linear(*input_dims, self.fc1_dims)\n",
    "        self.fc2 = nn.Linear(self.fc1_dims, self.fc2_dims)\n",
    "        self.pi = nn.Linear(self.fc2_dims, n_actions)\n",
    "        self.v = nn.Linear(self.fc2_dims, 1)\n",
    "        self.optimizer = optim.Adam(self.parameters(), lr=lr)\n",
    "        self.device = T.device('cuda:0' if T.cuda_is_available() else 'cpu')\n",
    "        self.to(self.device)\n",
    "    \n",
    "    def forward(self, state):\n",
    "        x = F.relu(self.fc1(state))\n",
    "        x = F.relu(self.fc2(x))\n",
    "        pi = self.pi(x)\n",
    "        v = self.v(x)\n",
    "        return (pi, v)"
   ]
  },
  {
   "cell_type": "code",
   "execution_count": 3,
   "metadata": {},
   "outputs": [],
   "source": [
    "class ActorCriticAgent():\n",
    "    def __init__(self, lr, input_dims, n_actions, gamma=0.99):\n",
    "        self.gamma = gamma\n",
    "        self.lr = lr\n",
    "        self.actor_critic = ActorCriticNetwork(self.lr, input_dims, n_actions)\n",
    "        self.log_prob = None  # log probability of the most recent action\n",
    "        \n",
    "    def get_action(self, state, edge, episode):\n",
    "        \n",
    "        #convert numpy arrays to tensors\n",
    "        stateT = T.tensor([state], dtype=T.float).to(self.actor_critic.device)\n",
    "        edgeT = T.tensor([edge], dtype=T.float).to(self.actor_critic.device)\n",
    "        \n",
    "        #get probabilities from the pi network but ignore the value from the value network using _\n",
    "        probabilities, _ = self.actor_critic.forward(stateT)\n",
    "        \n",
    "        #pass probabilities through softmax\n",
    "        probabilities = F.softmax(probabilities, dim=1)\n",
    "        action_probs = T.distributions.Categorical(probabilities)\n",
    "        \n",
    "        action = action_probs.sample()\n",
    "        log_prob = action_probs.log_prob(action)\n",
    "        self.log_prob = log_prob\n",
    "        return action.item() # dereference action because its a tensor\n",
    "    \n",
    "    def learn(self, state, reward, newState, terminal):\n",
    "        \n",
    "        self.actor_critic.optimizer.zero_grad()\n",
    "        stateT = T.tensor([state], dtype=T.float).to(self.actor_critic.device)\n",
    "        newStateT = T.tensor([newState], dtype=T.float).to(self.actor_critic.device)\n",
    "        rewardT = T.tensor([reward], dtype=T.float).to(self.actor_critic.device)\n",
    "        \n",
    "        _, critic_state_value = self.actor_critic.forward(stateT)\n",
    "        _, critic_new_state_value = self.actor_critic.forward(newStateT)\n",
    "        \n",
    "        delta = reward + self.gamma*critic_new_state_value*(1-int(done)) - critic_state_value\n",
    "        \n",
    "        actor_loss = -self.log_prob*delta\n",
    "        critic_loss = delta**2\n",
    "        \n",
    "        (actor_loss + critic_loss).backward()\n",
    "        self.actor_critic_.optimizer.step()"
   ]
  },
  {
   "cell_type": "code",
   "execution_count": null,
   "metadata": {},
   "outputs": [],
   "source": []
  }
 ],
 "metadata": {
  "kernelspec": {
   "display_name": "Python 3",
   "language": "python",
   "name": "python3"
  },
  "language_info": {
   "codemirror_mode": {
    "name": "ipython",
    "version": 3
   },
   "file_extension": ".py",
   "mimetype": "text/x-python",
   "name": "python",
   "nbconvert_exporter": "python",
   "pygments_lexer": "ipython3",
   "version": "3.6.4"
  }
 },
 "nbformat": 4,
 "nbformat_minor": 2
}
