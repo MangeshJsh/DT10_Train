{
 "cells": [
  {
   "cell_type": "code",
   "execution_count": 7,
   "metadata": {},
   "outputs": [],
   "source": [
    "import networkx as nx\n",
    "from CommonDefs import Point, Edge"
   ]
  },
  {
   "cell_type": "code",
   "execution_count": 8,
   "metadata": {},
   "outputs": [],
   "source": [
    "class Graph():\n",
    "    def __init__(self, points):\n",
    "        self.g = nx.Graph()\n",
    "        nodeIds = []\n",
    "        coords = {}\n",
    "        for point in points:\n",
    "            nodeIds.append(point.pid)\n",
    "            coords[point.pid] = [point.x, point.y]\n",
    "        self.g.add_nodes_from(nodeIds)\n",
    "        nx.set_node_attributes(self.g, coords, 'pos')   \n",
    "    \n",
    "    def getNumberOfPoints(self):\n",
    "        return self.g.number_of_nodes()\n",
    "    \n",
    "    def hasEdge(self, pid1, pid2):\n",
    "        return self.g.has_edge(pid1, pid2)\n",
    "    \n",
    "    def addEdge(self, pid1, pid2):\n",
    "        self.g.add_edge(pid1, pid2)\n",
    "    \n",
    "    def getNodeIdFromPosAttr(self, x, y):\n",
    "        for key, value in self.g.nodes.data('pos'):\n",
    "            if x==value[0] and y==value[1]:\n",
    "                return key\n",
    "        return -1\n",
    "    \n",
    "    def getCoordsFromNodeId(self, nodeId):\n",
    "        return self.g.nodes[nodeId]['pos']\n",
    "            \n",
    "    def drawGraph(self):\n",
    "        nx.draw(self.g, pos=nx.get_node_attributes(self.g, 'pos'), with_labels=True)\n",
    "    \n",
    "    def clearGraph(self):\n",
    "        self.g.clear()\n",
    "            \n",
    "    def getAdjacencyMatrix(self):\n",
    "        return nx.adjacency_matrix(self.g).todense()\n",
    "    \n",
    "    def getTriangles(self):\n",
    "        numNodes = nx.number_of_nodes(self.g)\n",
    "        adjMtx = nx.adjacency_matrix(self.g).todense()\n",
    "        triangles = set()\n",
    "        for i in range(0, numNodes):\n",
    "            for j in range(0, numNodes):\n",
    "                for k in range(0, numNodes):\n",
    "                    # check the triplet if it satisfies the condition\n",
    "                    if(i != j and i != k and j != k and adjMtx[i,j] and adjMtx[j,k] and adjMtx[k,i]):\n",
    "                        triIndices = (i+1, j+1, k+1)\n",
    "                        triIndices = sorted(triIndices)\n",
    "                        triangles.add(tuple(triIndices))\n",
    "        return triangles    "
   ]
  },
  {
   "cell_type": "code",
   "execution_count": null,
   "metadata": {},
   "outputs": [],
   "source": []
  },
  {
   "cell_type": "code",
   "execution_count": null,
   "metadata": {},
   "outputs": [],
   "source": []
  }
 ],
 "metadata": {
  "kernelspec": {
   "display_name": "Python 3",
   "language": "python",
   "name": "python3"
  },
  "language_info": {
   "codemirror_mode": {
    "name": "ipython",
    "version": 3
   },
   "file_extension": ".py",
   "mimetype": "text/x-python",
   "name": "python",
   "nbconvert_exporter": "python",
   "pygments_lexer": "ipython3",
   "version": "3.6.4"
  }
 },
 "nbformat": 4,
 "nbformat_minor": 2
}
