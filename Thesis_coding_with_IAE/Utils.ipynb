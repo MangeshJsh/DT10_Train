{
 "cells": [
  {
   "cell_type": "code",
   "execution_count": 29,
   "metadata": {},
   "outputs": [],
   "source": [
    "import math\n",
    "from CommonDefs import Point, Edge"
   ]
  },
  {
   "cell_type": "code",
   "execution_count": 30,
   "metadata": {},
   "outputs": [],
   "source": [
    "'''\n",
    "Function takes the start and end point ids representing the edge, mid point of the edge,\n",
    "the input points and number of nearest points required. It returns the points sorted in ascending \n",
    "order as per the distance from the edge mid point. It excludes the edge end points from the nearest points.\n",
    "'''\n",
    "def nearestKNeighboursOfEdgeMidPt(startPtId, endPtId, midPointOfEdge, targetPoints, k=-1):\n",
    "    nearestPoints = {}\n",
    "    for point in targetPoints:\n",
    "        nearestPoints[point.pid] = ((midPointOfEdge.x - point.x)**2) + ((midPointOfEdge.y - point.y)**2)\n",
    "    \n",
    "    if startPtId in nearestPoints:\n",
    "        nearestPoints.pop(startPtId)\n",
    "    \n",
    "    if endPtId in nearestPoints:\n",
    "        nearestPoints.pop(endPtId)\n",
    "    \n",
    "    sortedPts = sorted(nearestPoints.items(), key=lambda nearestPoints: nearestPoints[1])  \n",
    "    \n",
    "    sortedPtIds = []\n",
    "    \n",
    "    if (k != -1):\n",
    "        for i in range(0, k):\n",
    "            sortedPtIds.append(sortedPts[i][0])\n",
    "    else:\n",
    "        for i in range(len(sortedPts)):\n",
    "            sortedPtIds.append(sortedPts[i][0])\n",
    "    \n",
    "    return sortedPtIds"
   ]
  },
  {
   "cell_type": "code",
   "execution_count": 31,
   "metadata": {},
   "outputs": [],
   "source": [
    "# Function to find the line given two points\n",
    "def lineFromPoints(P, Q, a, b, c):\n",
    "    a = Q.y - P.y\n",
    "    b = P.x - Q.x\n",
    "    c = a * (P.x) + b * (P.y)\n",
    "    return a, b, c"
   ]
  },
  {
   "cell_type": "code",
   "execution_count": 32,
   "metadata": {},
   "outputs": [],
   "source": [
    "# Function which converts the input line to its\n",
    "# perpendicular bisector. It also inputs the points\n",
    "# whose mid-point lies on the bisector\n",
    "def perpendicularBisectorFromLine(P, Q, a, b, c):\n",
    "    mid_point = [(P.x + Q.x)/2, (P.y + Q.y)/2]\n",
    "    #print('midpoint X, Y: {} , {}'.format(mid_point[0], mid_point[1])) \n",
    "    # c = -bx + ay\n",
    "    c = -b * (mid_point[0]) + a * (mid_point[1])\n",
    "    temp = a\n",
    "    a = -b\n",
    "    b = temp\n",
    "    return a, b, c"
   ]
  },
  {
   "cell_type": "code",
   "execution_count": 33,
   "metadata": {},
   "outputs": [],
   "source": [
    "# Returns the intersection point of two lines\n",
    "def lineLineIntersection(a1, b1, c1, a2, b2, c2):\n",
    "    determinant = a1 * b2 - a2 * b1\n",
    "    if (determinant == 0):\n",
    "        print('Determinant is zero')\n",
    "        print([a1, b1, c1, a2, b2, c2])\n",
    "           \n",
    "        # The lines are parallel. This is simplified\n",
    "        # by returning a pair of (10.0)**19\n",
    "        return [(10.0)**19, (10.0)**19]\n",
    "    else:\n",
    "        x = (b2 * c1 - b1 * c2)/determinant\n",
    "        y = (a1 * c2 - a2 * c1)/determinant\n",
    "        return [x, y]"
   ]
  },
  {
   "cell_type": "code",
   "execution_count": 34,
   "metadata": {},
   "outputs": [],
   "source": [
    "def findCircumCenter(P, Q, R):\n",
    "   \n",
    "    # Line PQ is represented as ax + by = c\n",
    "    a, b, c = 0.0, 0.0, 0.0\n",
    "    a, b, c = lineFromPoints(P, Q, a, b, c)\n",
    " \n",
    "    # Line QR is represented as ex + fy = g\n",
    "    e, f, g = 0.0, 0.0, 0.0\n",
    "    e, f, g = lineFromPoints(Q, R, e, f, g)\n",
    " \n",
    "    # Converting lines PQ and QR to perpendicular\n",
    "    # vbisectors. After this, L = ax + by = c\n",
    "    # M = ex + fy = g\n",
    "    a, b, c = perpendicularBisectorFromLine(P, Q, a, b, c)\n",
    "    e, f, g = perpendicularBisectorFromLine(Q, R, e, f, g)\n",
    " \n",
    "    # The point of intersection of L and M gives\n",
    "    # the circumcenter\n",
    "    circumcenter = lineLineIntersection(a, b, c, e, f, g)\n",
    " \n",
    "    #if (circumcenter[0] == (10.0)**19 and circumcenter[1] == (10.0)**19):\n",
    "        #print(\"The two perpendicular bisectors found come parallel\")\n",
    "        #print(\"Thus, the given points do not form a triangle and are collinear\")\n",
    "    #else:\n",
    "        #print(\"The circumcenter of the triangle PQR is: \", end=\"\")\n",
    "        #print(\"(\", circumcenter[0], \",\", circumcenter[1], \")\")\n",
    "    \n",
    "    return circumcenter"
   ]
  },
  {
   "cell_type": "code",
   "execution_count": 35,
   "metadata": {},
   "outputs": [],
   "source": [
    "def pointIsInsideCircumcircle(circumCenter, triangleVertex, pointToTest):\n",
    "    # Radius of the circumcenter of the triangle\n",
    "    radius = ((circumCenter[0] - triangleVertex[0]) ** 2) + ((circumCenter[1] - triangleVertex[1]) ** 2)\n",
    " \n",
    "    # Distance between point and circumcenter \n",
    "    dis = ((circumCenter[0] - pointToTest[0]) ** 2) + ((circumCenter[1] - pointToTest[1]) ** 2)\n",
    "    if (dis < radius):\n",
    "        return True\n",
    "    return False"
   ]
  },
  {
   "cell_type": "code",
   "execution_count": 36,
   "metadata": {},
   "outputs": [],
   "source": [
    "def checkTriangleForDelaunayCriteria(P, Q, R, targetPoints):\n",
    "    circumcenter = findCircumCenter(P, Q, R)\n",
    "    #print(circumcenter[0])\n",
    "    #print(circumcenter[1])\n",
    "    for pt in targetPoints:\n",
    "        if pointIsInsideCircumcircle(circumcenter, [P.x, P.y], [pt.x, pt.y]) == True:\n",
    "            return False\n",
    "    return True"
   ]
  }
 ],
 "metadata": {
  "kernelspec": {
   "display_name": "Python 3",
   "language": "python",
   "name": "python3"
  },
  "language_info": {
   "codemirror_mode": {
    "name": "ipython",
    "version": 3
   },
   "file_extension": ".py",
   "mimetype": "text/x-python",
   "name": "python",
   "nbconvert_exporter": "python",
   "pygments_lexer": "ipython3",
   "version": "3.6.4"
  }
 },
 "nbformat": 4,
 "nbformat_minor": 2
}
